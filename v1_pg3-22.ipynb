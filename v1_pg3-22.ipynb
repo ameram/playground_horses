{
 "cells": [
  {
   "cell_type": "code",
   "execution_count": 1,
   "id": "1106b3c9-4cd1-467a-8465-5bf8f39b877b",
   "metadata": {},
   "outputs": [],
   "source": [
    "import numpy as np\n",
    "import pandas as pd"
   ]
  },
  {
   "cell_type": "code",
   "execution_count": 2,
   "id": "7d7c396b-b777-4c60-83a0-bd28fb201afc",
   "metadata": {},
   "outputs": [],
   "source": [
    "df_train = pd.read_csv('playground-series-s3e22/train.csv')\n",
    "df_test = pd.read_csv('playground-series-s3e22/test.csv')"
   ]
  },
  {
   "cell_type": "code",
   "execution_count": 3,
   "id": "7833a106-11ff-47ec-81d7-07522ea1bfae",
   "metadata": {},
   "outputs": [
    {
     "data": {
      "text/plain": [
       "(1235, 29)"
      ]
     },
     "execution_count": 3,
     "metadata": {},
     "output_type": "execute_result"
    }
   ],
   "source": [
    "df_train.shape"
   ]
  },
  {
   "cell_type": "code",
   "execution_count": 4,
   "id": "03572148-31b1-41b7-892d-651a03c53a49",
   "metadata": {},
   "outputs": [
    {
     "data": {
      "text/plain": [
       "(824, 28)"
      ]
     },
     "execution_count": 4,
     "metadata": {},
     "output_type": "execute_result"
    }
   ],
   "source": [
    "df_test.shape"
   ]
  },
  {
   "cell_type": "code",
   "execution_count": 5,
   "id": "0f503219-2fe4-46d7-977b-562e252fbbc0",
   "metadata": {},
   "outputs": [
    {
     "data": {
      "text/plain": [
       "(824, 2)"
      ]
     },
     "execution_count": 5,
     "metadata": {},
     "output_type": "execute_result"
    }
   ],
   "source": [
    "df_sample_sub = pd.read_csv('playground-series-s3e22/sample_submission.csv')\n",
    "df_sample_sub.shape"
   ]
  },
  {
   "cell_type": "code",
   "execution_count": null,
   "id": "1f43f64a-a489-4808-98fc-b5d1b2e5a15b",
   "metadata": {},
   "outputs": [],
   "source": []
  }
 ],
 "metadata": {
  "kernelspec": {
   "display_name": "Python 3 (ipykernel)",
   "language": "python",
   "name": "python3"
  },
  "language_info": {
   "codemirror_mode": {
    "name": "ipython",
    "version": 3
   },
   "file_extension": ".py",
   "mimetype": "text/x-python",
   "name": "python",
   "nbconvert_exporter": "python",
   "pygments_lexer": "ipython3",
   "version": "3.10.9"
  }
 },
 "nbformat": 4,
 "nbformat_minor": 5
}
